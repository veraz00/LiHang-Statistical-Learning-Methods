{
 "cells": [
  {
   "cell_type": "code",
   "execution_count": 1,
   "metadata": {},
   "outputs": [],
   "source": [
    "import time \n",
    "import numpy as np\n",
    "import math\n",
    "from scipy.special import comb"
   ]
  },
  {
   "cell_type": "code",
   "execution_count": 2,
   "metadata": {},
   "outputs": [
    {
     "name": "stdout",
     "output_type": "stream",
     "text": [
      "Data shape:  (150, 4)\n",
      "Length of labels:  150\n"
     ]
    },
    {
     "data": {
      "text/plain": [
       "Counter({'Iris-setosa': 50, 'Iris-versicolor': 50, 'Iris-virginica': 50})"
      ]
     },
     "execution_count": 2,
     "metadata": {},
     "output_type": "execute_result"
    }
   ],
   "source": [
    "def load_data(file):\n",
    "    Xlist, Ylist = [], []\n",
    "    fr = open(file)\n",
    "    for line in fr.readlines():\n",
    "        cur = line.strip().split(',')\n",
    "        label = cur[-1]\n",
    "        X = [float(x) for x in cur[:-1]]\n",
    "        Xlist.append(X)\n",
    "        Ylist.append(label)\n",
    "    Xarray = np.array(Xlist)\n",
    "    print('Data shape: ', Xarray.shape)\n",
    "    print('Length of labels: ', len(Ylist))\n",
    "    return Xarray, Ylist\n",
    "f1 = 'iris.data'\n",
    "Xarray, Ylist = load_data(f1)  # Counter({'Iris-setosa': 50, 'Iris-versicolor': 50, 'Iris-virginica': 50})\n",
    "from collections import Counter \n",
    "Counter(Ylist)"
   ]
  },
  {
   "cell_type": "code",
   "execution_count": 3,
   "metadata": {},
   "outputs": [],
   "source": [
    "def Normalize(Xarray):\n",
    "    for f in range(Xarray.shape[1]):\n",
    "        maxf = np.max(Xarray[:, f])\n",
    "        minf = np.min(Xarray[:, f])\n",
    "        for n in range(Xarray.shape[0]):\n",
    "            Xarray[n][f] = (Xarray[n][f]-minf)/(maxf-minf)\n",
    "    return Xarray\n",
    "Xarray = Normalize(Xarray)"
   ]
  },
  {
   "cell_type": "code",
   "execution_count": 4,
   "metadata": {},
   "outputs": [
    {
     "name": "stdout",
     "output_type": "stream",
     "text": [
      "[[0.         0.21561354 0.16810102 ... 1.08257132 1.14907064 0.96462829]\n",
      " [0.21561354 0.         0.10157824 ... 1.08390691 1.17619813 0.95649502]\n",
      " [0.16810102 0.10157824 0.         ... 1.12088708 1.19544459 0.98859665]\n",
      " ...\n",
      " [1.08257132 1.08390691 1.12088708 ... 0.         0.226928   0.18710825]\n",
      " [1.14907064 1.17619813 1.19544459 ... 0.226928   0.         0.28409587]\n",
      " [0.96462829 0.95649502 0.98859665 ... 0.18710825 0.28409587 0.        ]]\n"
     ]
    }
   ],
   "source": [
    "def cal_distance(xi, xj):\n",
    "    dist = 0\n",
    "    for col in range(len(xi)):\n",
    "        dist += (xi[col]-xj[col])**2\n",
    "    dist = math.sqrt(dist)\n",
    "    return dist \n",
    "\n",
    "def Distances(Xarray):\n",
    "    '''\n",
    "    INPUT:\n",
    "    Xarray - (array) 特征数据数组\n",
    "    \n",
    "    OUTPUT:\n",
    "    dists - (array) 两两数据的欧式距离数组\n",
    "    \n",
    "    '''\n",
    "    dists = np.zeros((Xarray.shape[0], Xarray.shape[0]))\n",
    "    for n1 in range(Xarray.shape[0]):\n",
    "        for n2 in range(n1):\n",
    "            dists[n1][n2] = cal_distance(Xarray[n1], Xarray[n2])\n",
    "            dists[n2][n1] = dists[n1][n2]\n",
    "        dists[n1][n1] = 0\n",
    "    return dists\n",
    "\n",
    "dists = Distances(Xarray)\n",
    "print(dists)\n"
   ]
  },
  {
   "cell_type": "code",
   "execution_count": 5,
   "metadata": {},
   "outputs": [],
   "source": [
    "from sklearn import metrics\n",
    "def Adjusted_Rand_Index(group_dict, Ylist, k):\n",
    "    '''\n",
    "    INPUT:\n",
    "    group_dict - (dict) 类别字典\n",
    "    Ylist - (list) 类别标签列表\n",
    "    k - (int) 设定的类别数\n",
    "    \n",
    "    OUTPUT:\n",
    "    (int) 调整兰德系数\n",
    "    \n",
    "    '''\n",
    "    prediction_list = [0] * len(Ylist)\n",
    "    i = 0\n",
    "    for a in group_dict.keys():\n",
    "        for g in group_dict[a]:\n",
    "            prediction_list[g] = i\n",
    "        i += 1\n",
    "    y_list = [0] * len(Ylist)\n",
    "    for i in range(len(Ylist)): # Counter({'Iris-setosa': 50, 'Iris-versicolor': 50, 'Iris-virginica': 50})\n",
    "        if Ylist[i] == Ylist[52]:\n",
    "            y_list[i] = k-1\n",
    "        elif Ylist[i] == Ylist[-1]:\n",
    "            y_list[i] = k-2\n",
    "    print(prediction_list)\n",
    "    print(y_list)\n",
    "    result = metrics.adjusted_rand_score(y_list, prediction_list)\n",
    "#     >>> adjusted_rand_score([0, 0, 1, 1], [0, 0, 1, 1])\n",
    "# 1.0\n",
    "# >>> adjusted_rand_score([0, 0, 1, 1], [1, 1, 0, 0])\n",
    "# 1.0\n",
    "    return result"
   ]
  },
  {
   "cell_type": "code",
   "execution_count": 13,
   "metadata": {},
   "outputs": [],
   "source": [
    "import random\n",
    "def cal_groupcenter(group, Xarray):\n",
    "    '''\n",
    "    INPUT:\n",
    "    group - (list) 类所包含的数据列表\n",
    "    Xarray - (array) 特征数据数组\n",
    "    \n",
    "    OUTPUT:\n",
    "    center - (array) 新的类中心\n",
    "    \n",
    "    '''\n",
    "    center = np.zeros(Xarray.shape[1])\n",
    "    for i in range(Xarray.shape[1]):\n",
    "        for n in group:\n",
    "            center[i] += Xarray[n][i]\n",
    "    center /= len(group)\n",
    "    return center\n",
    "\n",
    "def kmeans(Xarray, k, iters):\n",
    "    '''\n",
    "    INPUT:\n",
    "    Xarray - (array) 特征数据数组\n",
    "    k - (int) 设定的类别数\n",
    "    iters - (int) 设定的迭代次数\n",
    "    \n",
    "    OUTPUT:\n",
    "    group_dict - (dict) 类别字典\n",
    "    scores - (int) 每次迭代的ARI得分列表\n",
    "    \n",
    "    '''\n",
    "    center_inds = random.sample(range(Xarray.shape[0]), k)\n",
    "    centers = [Xarray[ci] for ci in center_inds]\n",
    "    scores = []\n",
    "    for i in range(iters):\n",
    "        group_dict = {i:[] for i in range(k)}  #定义一个空字典，用于保存聚类所产生的所有类别，其中字典的键为类别标签，值为类别所包含的数据列表，以索引表示每条数据\n",
    "        print('{}/{}'.format(i+1, iters))\n",
    "        for n in range(Xarray.shape[0]):\n",
    "            dists = []\n",
    "            for ci in range(k):\n",
    "                dist = cal_distance(Xarray[n], centers[ci])\n",
    "                dists.append(dist)\n",
    "            g = dists.index(min(dists))\n",
    "            group_dict[g].append(n)\n",
    "        for i in range(k):\n",
    "            centers[i] = cal_groupcenter(group_dict[i], Xarray)\n",
    "        scores.append(Adjusted_Rand_Index(group_dict, Ylist, 3))\n",
    "    return group_dict, scores\n"
   ]
  },
  {
   "cell_type": "code",
   "execution_count": 14,
   "metadata": {},
   "outputs": [
    {
     "name": "stdout",
     "output_type": "stream",
     "text": [
      "Data shape:  (150, 4)\n",
      "Length of labels:  150\n",
      "1/2\n",
      "[2, 2, 2, 2, 2, 2, 2, 2, 2, 2, 2, 2, 2, 2, 2, 2, 2, 2, 2, 2, 2, 2, 2, 2, 2, 2, 2, 2, 2, 2, 2, 2, 2, 2, 2, 2, 2, 2, 2, 2, 2, 2, 2, 2, 2, 2, 2, 2, 2, 2, 0, 1, 0, 2, 0, 2, 1, 2, 2, 2, 2, 0, 2, 0, 2, 0, 0, 2, 2, 2, 1, 2, 0, 2, 2, 0, 0, 0, 0, 2, 2, 2, 2, 0, 1, 1, 0, 2, 2, 2, 2, 0, 2, 2, 2, 2, 2, 2, 2, 2, 1, 0, 0, 0, 0, 0, 2, 0, 0, 1, 0, 0, 0, 0, 0, 1, 0, 1, 0, 2, 0, 0, 0, 0, 1, 0, 0, 0, 0, 0, 0, 1, 0, 0, 0, 0, 1, 0, 0, 0, 0, 0, 0, 0, 1, 0, 0, 0, 1, 0]\n",
      "[0, 0, 0, 0, 0, 0, 0, 0, 0, 0, 0, 0, 0, 0, 0, 0, 0, 0, 0, 0, 0, 0, 0, 0, 0, 0, 0, 0, 0, 0, 0, 0, 0, 0, 0, 0, 0, 0, 0, 0, 0, 0, 0, 0, 0, 0, 0, 0, 0, 0, 1, 1, 1, 1, 1, 1, 1, 1, 1, 1, 1, 1, 1, 1, 1, 1, 1, 1, 1, 1, 1, 1, 1, 1, 1, 1, 1, 1, 1, 1, 1, 1, 1, 1, 1, 1, 1, 1, 1, 1, 1, 1, 1, 1, 1, 1, 1, 1, 1, 1, 2, 2, 2, 2, 2, 2, 2, 2, 2, 2, 2, 2, 2, 2, 2, 2, 2, 2, 2, 2, 2, 2, 2, 2, 2, 2, 2, 2, 2, 2, 2, 2, 2, 2, 2, 2, 2, 2, 2, 2, 2, 2, 2, 2, 2, 2, 2, 2, 2, 2]\n",
      "2/2\n",
      "[2, 2, 2, 2, 2, 2, 2, 2, 2, 2, 2, 2, 2, 2, 2, 2, 2, 2, 2, 2, 2, 2, 2, 2, 2, 2, 2, 2, 2, 2, 2, 2, 2, 2, 2, 2, 2, 2, 2, 2, 2, 2, 2, 2, 2, 2, 2, 2, 2, 2, 0, 0, 0, 0, 0, 0, 0, 2, 0, 2, 2, 0, 2, 0, 2, 0, 0, 2, 0, 2, 0, 0, 0, 0, 0, 0, 0, 0, 0, 2, 2, 2, 2, 0, 0, 1, 0, 0, 0, 0, 0, 0, 0, 2, 0, 2, 0, 0, 2, 0, 1, 0, 0, 0, 0, 0, 0, 0, 0, 1, 1, 0, 0, 0, 0, 1, 0, 1, 0, 0, 1, 0, 0, 0, 1, 1, 0, 0, 0, 0, 0, 1, 0, 0, 0, 1, 1, 0, 0, 1, 1, 1, 0, 1, 1, 1, 0, 0, 1, 0]\n",
      "[0, 0, 0, 0, 0, 0, 0, 0, 0, 0, 0, 0, 0, 0, 0, 0, 0, 0, 0, 0, 0, 0, 0, 0, 0, 0, 0, 0, 0, 0, 0, 0, 0, 0, 0, 0, 0, 0, 0, 0, 0, 0, 0, 0, 0, 0, 0, 0, 0, 0, 1, 1, 1, 1, 1, 1, 1, 1, 1, 1, 1, 1, 1, 1, 1, 1, 1, 1, 1, 1, 1, 1, 1, 1, 1, 1, 1, 1, 1, 1, 1, 1, 1, 1, 1, 1, 1, 1, 1, 1, 1, 1, 1, 1, 1, 1, 1, 1, 1, 1, 2, 2, 2, 2, 2, 2, 2, 2, 2, 2, 2, 2, 2, 2, 2, 2, 2, 2, 2, 2, 2, 2, 2, 2, 2, 2, 2, 2, 2, 2, 2, 2, 2, 2, 2, 2, 2, 2, 2, 2, 2, 2, 2, 2, 2, 2, 2, 2, 2, 2]\n",
      "Time: 0.006016254425048828\n"
     ]
    },
    {
     "data": {
      "image/png": "[encoded data removed]",
      "text/plain": [
       "<Figure size 432x288 with 1 Axes>"
      ]
     },
     "metadata": {},
     "output_type": "display_data"
    }
   ],
   "source": [
    "import matplotlib.pyplot as plt\n",
    "if __name__ == \"__main__\":\n",
    "    Xarray, Ylist = load_data('iris.data')  #加载数据\n",
    "    start = time.time()  #保存开始时间\n",
    "    Xarray = Normalize(Xarray)  #对特征数据进行标准化处理\n",
    "    k = 3  #设定聚类数为3\n",
    "    iters = 2  #设定迭代次数为2\n",
    "    group_dict, scores = kmeans(Xarray, k, iters)  #进行k均值聚类\n",
    "    end = time.time()  #保存结束时间\n",
    "    print('Time:', end-start)\n",
    "    plt.plot(range(iters), scores)  #绘制ARI得分折线图"
   ]
  }
 ],
 "metadata": {
  "interpreter": {
   "hash": "e7af97de8e7140f0a6952c0d53c4bf364c20846b0eea35a1dd78e46eaf795670"
  },
  "kernelspec": {
   "display_name": "Python 3.7.7 64-bit",
   "language": "python",
   "name": "python3"
  },
  "language_info": {
   "codemirror_mode": {
    "name": "ipython",
    "version": 3
   },
   "file_extension": ".py",
   "mimetype": "text/x-python",
   "name": "python",
   "nbconvert_exporter": "python",
   "pygments_lexer": "ipython3",
   "version": "3.9.7"
  },
  "orig_nbformat": 4
 },
 "nbformat": 4,
 "nbformat_minor": 2
}
